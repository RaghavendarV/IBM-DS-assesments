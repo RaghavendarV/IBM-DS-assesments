{
 "cells": [
  {
   "cell_type": "markdown",
   "id": "a0c64ec9",
   "metadata": {},
   "source": [
    "# Data Science Tools and Ecosystem"
   ]
  },
  {
   "cell_type": "markdown",
   "id": "4b572be0",
   "metadata": {},
   "source": [
    "#### In this notebook, Data Science Tools and Ecosystem are summarized."
   ]
  },
  {
   "cell_type": "markdown",
   "id": "c194ed64",
   "metadata": {},
   "source": [
    "#### **Objectives:**\n",
    "*we saw about:*\n",
    "- languages used in data science\n",
    "- libraries used in data science\n",
    "- few open source tools\n",
    "- basic python programs"
   ]
  },
  {
   "cell_type": "markdown",
   "id": "1db5f162",
   "metadata": {},
   "source": [
    "##### Some of the popular languages that Data Scientists use are:\n",
    "1. Python\n",
    "2. SQL\n",
    "3. R\n",
    "4. Java\n",
    "5. Julia\n",
    "6. Scala"
   ]
  },
  {
   "cell_type": "markdown",
   "id": "f4a56861",
   "metadata": {},
   "source": [
    "##### Some of the commonly used libraries used by Data Scientists include:\n",
    "1. pandas\n",
    "2. numpy\n",
    "3. matplotlib\n",
    "4. Tensorflow\n",
    "5. keras"
   ]
  },
  {
   "cell_type": "markdown",
   "id": "1892f802",
   "metadata": {},
   "source": [
    "|Data Science Tools|\n",
    "|-----|\n",
    "|Jupyter|\n",
    "|Apache Zeppeline|\n",
    "|RStudio|"
   ]
  },
  {
   "cell_type": "markdown",
   "id": "41767997",
   "metadata": {},
   "source": [
    "### Below are a few examples of evaluating arithmetic expressions in Python"
   ]
  },
  {
   "cell_type": "code",
   "execution_count": 3,
   "id": "9c4ca8bd",
   "metadata": {},
   "outputs": [
    {
     "data": {
      "text/plain": [
       "12"
      ]
     },
     "execution_count": 3,
     "metadata": {},
     "output_type": "execute_result"
    }
   ],
   "source": [
    "5+7"
   ]
  },
  {
   "cell_type": "code",
   "execution_count": 4,
   "id": "df640bcb",
   "metadata": {},
   "outputs": [
    {
     "data": {
      "text/plain": [
       "5.0"
      ]
     },
     "execution_count": 4,
     "metadata": {},
     "output_type": "execute_result"
    }
   ],
   "source": [
    "20/4"
   ]
  },
  {
   "cell_type": "code",
   "execution_count": 5,
   "id": "b817b4a6",
   "metadata": {},
   "outputs": [
    {
     "data": {
      "text/plain": [
       "1"
      ]
     },
     "execution_count": 5,
     "metadata": {},
     "output_type": "execute_result"
    }
   ],
   "source": [
    "19%3"
   ]
  },
  {
   "cell_type": "code",
   "execution_count": 6,
   "id": "7370fee4",
   "metadata": {},
   "outputs": [
    {
     "data": {
      "text/plain": [
       "17"
      ]
     },
     "execution_count": 6,
     "metadata": {},
     "output_type": "execute_result"
    }
   ],
   "source": [
    "#This a simple arithmetic expression to mutiply then add integers\n",
    "(3*4)+5"
   ]
  },
  {
   "cell_type": "code",
   "execution_count": 7,
   "id": "8955d8ef",
   "metadata": {},
   "outputs": [
    {
     "name": "stdout",
     "output_type": "stream",
     "text": [
      "Enter the time in minutes: 200\n",
      "time in hours is: 3.3333333333333335\n"
     ]
    }
   ],
   "source": [
    "min = int(input(\"Enter the time in minutes: \"))\n",
    "\n",
    "#This will convert 200 minutes to hours by diving by 60\n",
    "hours = min/60\n",
    "print(\"time in hours is: \"+str(hours))"
   ]
  },
  {
   "cell_type": "markdown",
   "id": "5844413e",
   "metadata": {},
   "source": [
    "## Author\n",
    "Raghavendar V"
   ]
  }
 ],
 "metadata": {
  "kernelspec": {
   "display_name": "Python 3 (ipykernel)",
   "language": "python",
   "name": "python3"
  },
  "language_info": {
   "codemirror_mode": {
    "name": "ipython",
    "version": 3
   },
   "file_extension": ".py",
   "mimetype": "text/x-python",
   "name": "python",
   "nbconvert_exporter": "python",
   "pygments_lexer": "ipython3",
   "version": "3.11.5"
  }
 },
 "nbformat": 4,
 "nbformat_minor": 5
}
